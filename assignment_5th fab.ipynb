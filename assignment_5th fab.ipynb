{
 "cells": [
  {
   "cell_type": "code",
   "execution_count": 2,
   "id": "df8ec6e4-114d-4760-8fbe-5af5b6399ec3",
   "metadata": {},
   "outputs": [
    {
     "data": {
      "text/plain": [
       "('pradeep singh rajputy', 'Renewable energy and technology', 2260505)"
      ]
     },
     "execution_count": 2,
     "metadata": {},
     "output_type": "execute_result"
    }
   ],
   "source": [
    "# Q1. Explain Class and Object with respect to Object-Oriented Programming. Give a suitable example.\n",
    "\n",
    "# Ans Classes are user-defined data types that act as the blueprint for individual objects, attributes and methods. \n",
    "#     Objects are instances of a class created with specifically defined data. \n",
    "#     Objects can correspond to real-world objects or an abstract entity.\n",
    "\n",
    "class iit_kharagpur:                           # iit_kharagput is a class.\n",
    "    def __init__(self,name,branch,roll_number):\n",
    "        self.name = name\n",
    "        self.branch = branch\n",
    "        self.roll_number = roll_number\n",
    "    def students_details(self):              \n",
    "        return self.name,self.branch,self.roll_number\n",
    "x = iit_kharagpur (\"pradeep singh rajputy\",\"Renewable energy and technology\",2260505)   #   here x is a object in this code.\n",
    "x.students_details()\n",
    "\n"
   ]
  },
  {
   "cell_type": "code",
   "execution_count": null,
   "id": "4c9de509-942f-41b1-9cea-e81592a1fcf8",
   "metadata": {},
   "outputs": [],
   "source": [
    "# Q2. Name the four pillars of OOPs.\n",
    "     Inheritance, Polymorphism, Encapsulation and Abstraction.\n"
   ]
  },
  {
   "cell_type": "code",
   "execution_count": 5,
   "id": "04c2afe4-26d6-4ab3-a661-82aad1ff08a0",
   "metadata": {},
   "outputs": [
    {
     "data": {
      "text/plain": [
       "('required for data science', 'python and R ')"
      ]
     },
     "execution_count": 5,
     "metadata": {},
     "output_type": "execute_result"
    }
   ],
   "source": [
    "#Q3. Explain why the __init__() function is used. Give a suitable example.\n",
    "\n",
    "#     The __init__ function is called every time an object is created from a class. \n",
    "#     The __init__ method lets the class initialize the object's attributes and serves no other purpose. \n",
    "#     It is only used within classes.\n",
    "\n",
    "class data_scientists:\n",
    "    def __init__(self,skills,programming_language):\n",
    "        self.skills = skills\n",
    "        self.programming_language = programming_language\n",
    "    def students_details(self):\n",
    "        return self.skills,self.programming_language\n",
    "a = data_scientists(\"required for data science\",\"python and R \")\n",
    "a.students_details()"
   ]
  },
  {
   "cell_type": "code",
   "execution_count": null,
   "id": "16d380b4-f0f6-4d41-bc8a-1336e84f6396",
   "metadata": {},
   "outputs": [],
   "source": [
    "# Q4. Why self is used in OOPs?\n",
    "\n",
    "The self is used to represent the instance of the class. With this keyword, you can access the attributes and \n",
    "methods of the class in python. It binds the attributes with the given arguments. \n",
    "The reason why we use self is that Python does not use the '@' syntax to refer to instance attributes."
   ]
  },
  {
   "cell_type": "code",
   "execution_count": 9,
   "id": "8a80f7c6-ce3c-4235-ba29-35b4d8f8a7f5",
   "metadata": {},
   "outputs": [
    {
     "data": {
      "text/plain": [
       "'i am workholicing , sincere and dedicated  '"
      ]
     },
     "execution_count": 9,
     "metadata": {},
     "output_type": "execute_result"
    }
   ],
   "source": [
    "# Q5.  What is inheritance? Give an example for each type of inheritance.\n",
    "\n",
    "#      Inheritance allows us to define a class that inherits all the methods and properties from another class.\n",
    "#      Parent class is the class being inherited from, also called base class. \n",
    "#      Child class is the class that inherits from another class, also called derived class.\n",
    "\n",
    "class papa:\n",
    "    def papa(self):\n",
    "        return \"i am workholicing , sincere and dedicated  \"\n",
    "\n",
    "class son(papa):\n",
    "    def son(self):\n",
    "        return \"i want to get all charactertidtic of my lovable father\"\n",
    "\n",
    "object_son = son()\n",
    "object_son.papa()\n",
    "    "
   ]
  },
  {
   "cell_type": "code",
   "execution_count": null,
   "id": "2d0fe21b-3d16-4f37-8f30-448c68012454",
   "metadata": {},
   "outputs": [],
   "source": []
  }
 ],
 "metadata": {
  "kernelspec": {
   "display_name": "Python 3 (ipykernel)",
   "language": "python",
   "name": "python3"
  },
  "language_info": {
   "codemirror_mode": {
    "name": "ipython",
    "version": 3
   },
   "file_extension": ".py",
   "mimetype": "text/x-python",
   "name": "python",
   "nbconvert_exporter": "python",
   "pygments_lexer": "ipython3",
   "version": "3.10.8"
  }
 },
 "nbformat": 4,
 "nbformat_minor": 5
}
